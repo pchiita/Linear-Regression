{
  "nbformat": 4,
  "nbformat_minor": 0,
  "metadata": {
    "colab": {
      "name": "Ridge_Lasso_Regression.ipynb",
      "version": "0.3.2",
      "provenance": [],
      "include_colab_link": true
    },
    "language_info": {
      "codemirror_mode": {
        "name": "ipython",
        "version": 3
      },
      "file_extension": ".py",
      "mimetype": "text/x-python",
      "name": "python",
      "nbconvert_exporter": "python",
      "pygments_lexer": "ipython3",
      "version": "3.7.0"
    },
    "kernelspec": {
      "display_name": "Python 3",
      "language": "python",
      "name": "python3"
    }
  },
  "cells": [
    {
      "cell_type": "markdown",
      "metadata": {
        "id": "view-in-github",
        "colab_type": "text"
      },
      "source": [
        "<a href=\"https://colab.research.google.com/github/pchiita/Linear-Regression/blob/master/Ridge_Lasso_Regression.ipynb\" target=\"_parent\"><img src=\"https://colab.research.google.com/assets/colab-badge.svg\" alt=\"Open In Colab\"/></a>"
      ]
    },
    {
      "cell_type": "code",
      "metadata": {
        "collapsed": true,
        "id": "XelLLn2TJP8l",
        "colab_type": "code",
        "colab": {}
      },
      "source": [
        "%matplotlib inline\n",
        "\n",
        "\n",
        "# Numerical libraries\n",
        "import numpy as np   \n",
        "\n",
        "# Import Linear Regression machine learning library\n",
        "from sklearn.linear_model import LinearRegression\n",
        "from sklearn.linear_model import Ridge\n",
        "from sklearn.linear_model import Lasso\n",
        "\n",
        "from sklearn.metrics import r2_score\n",
        "\n",
        "# to handle data in form of rows and columns \n",
        "import pandas as pd    \n",
        "\n",
        "# importing ploting libraries\n",
        "import matplotlib.pyplot as plt   \n",
        "\n",
        "#importing seaborn for statistical plots\n",
        "import seaborn as sns"
      ],
      "execution_count": 0,
      "outputs": []
    },
    {
      "cell_type": "code",
      "metadata": {
        "id": "xsygaSYaJP83",
        "colab_type": "code",
        "colab": {}
      },
      "source": [
        "mpg_df = pd.read_csv(\"car-mpg.csv\")  \n",
        "mpg_df = mpg_df.drop('car_name', axis=1)\n",
        "mpg_df['origin'] = mpg_df['origin'].replace({1: 'america', 2: 'europe', 3: 'asia'})\n",
        "mpg_df = pd.get_dummies(mpg_df, columns=['origin'])\n",
        "mpg_df = mpg_df.replace('?', np.nan)\n",
        "mpg_df = mpg_df.apply(lambda x: x.fillna(x.median()),axis=0)"
      ],
      "execution_count": 0,
      "outputs": []
    },
    {
      "cell_type": "code",
      "metadata": {
        "collapsed": true,
        "id": "ejSSMwuCJP9B",
        "colab_type": "code",
        "colab": {}
      },
      "source": [
        "# Copy all the predictor variables into X dataframe. Since 'mpg' is dependent variable drop it\n",
        "X = mpg_df.drop('mpg', axis=1)\n",
        "\n",
        "# Copy the 'mpg' column alone into the y dataframe. This is the dependent variable\n",
        "y = mpg_df[['mpg']]\n"
      ],
      "execution_count": 0,
      "outputs": []
    },
    {
      "cell_type": "code",
      "metadata": {
        "collapsed": true,
        "id": "y8A_RY43JP9K",
        "colab_type": "code",
        "colab": {}
      },
      "source": [
        "from sklearn import preprocessing\n",
        "\n",
        "# scale all the columns of the mpg_df. This will produce a numpy array\n",
        "X_scaled = preprocessing.scale(X)\n",
        "X_scaled = pd.DataFrame(X_scaled, columns=X.columns)  # ideally the training and test should be "
      ],
      "execution_count": 0,
      "outputs": []
    },
    {
      "cell_type": "code",
      "metadata": {
        "collapsed": true,
        "id": "Qm4NnsOiJP9S",
        "colab_type": "code",
        "colab": {}
      },
      "source": [
        "\n",
        "from sklearn.model_selection import train_test_split\n",
        "\n",
        "X_train, X_test, y_train, y_test = train_test_split(X_scaled, y, test_size=0.30, random_state=1)"
      ],
      "execution_count": 0,
      "outputs": []
    },
    {
      "cell_type": "code",
      "metadata": {
        "id": "3-i7ULPAJP9c",
        "colab_type": "code",
        "colab": {},
        "outputId": "aa85d54f-4185-453d-b68c-f0c59a05f19f"
      },
      "source": [
        "regression_model = LinearRegression()\n",
        "regression_model.fit(X_train, y_train)\n",
        "\n",
        "for idx, col_name in enumerate(X_train.columns):\n",
        "    print(\"The coefficient for {} is {}\".format(col_name, regression_model.coef_[0][idx]))"
      ],
      "execution_count": 0,
      "outputs": [
        {
          "output_type": "stream",
          "text": [
            "The coefficient for cyl is -0.6707258146672874\n",
            "The coefficient for disp is 3.014349700777794\n",
            "The coefficient for hp is -0.8303813133253106\n",
            "The coefficient for wt is -6.2181813408093225\n",
            "The coefficient for acc is 0.17053969974945324\n",
            "The coefficient for yr is 3.0907788393987805\n",
            "The coefficient for origin_america is -0.7337708836958005\n",
            "The coefficient for origin_asia is 0.3506361951144703\n",
            "The coefficient for origin_europe is 0.5654047730253051\n"
          ],
          "name": "stdout"
        }
      ]
    },
    {
      "cell_type": "code",
      "metadata": {
        "collapsed": true,
        "id": "UBqmBGAwJP9x",
        "colab_type": "code",
        "colab": {}
      },
      "source": [
        "# Let us compare the coefficients with the RIDGE and LASSO coefficients "
      ],
      "execution_count": 0,
      "outputs": []
    },
    {
      "cell_type": "markdown",
      "metadata": {
        "id": "nQTJuvVFJP9-",
        "colab_type": "text"
      },
      "source": [
        "## RIDGE COEFFICIENTS"
      ]
    },
    {
      "cell_type": "code",
      "metadata": {
        "id": "n3RNumVbJP-E",
        "colab_type": "code",
        "colab": {},
        "outputId": "4082d2f9-3436-4be9-fcc1-5ce9bb629908"
      },
      "source": [
        "ridge = Ridge(alpha=.3)\n",
        "ridge.fit(X_train,y_train)\n",
        "print (\"Ridge model:\", (ridge.coef_))\n",
        "    "
      ],
      "execution_count": 0,
      "outputs": [
        {
          "output_type": "stream",
          "text": [
            "Ridge model: [[-0.62494625  2.86181924 -0.85010003 -6.11414714  0.14971413  3.07891605\n",
            "  -0.72666287  0.34868313  0.55841538]]\n"
          ],
          "name": "stdout"
        }
      ]
    },
    {
      "cell_type": "markdown",
      "metadata": {
        "id": "RHT6aM7KJP-P",
        "colab_type": "text"
      },
      "source": [
        "## LASSO COEFFICIENTS"
      ]
    },
    {
      "cell_type": "code",
      "metadata": {
        "id": "zPXKK_u7JP-U",
        "colab_type": "code",
        "colab": {},
        "outputId": "f43321c2-09bf-4ded-da08-ba3309545614"
      },
      "source": [
        "lasso = Lasso(alpha=0.70)\n",
        "lasso.fit(X_train,y_train)\n",
        "print (\"Lasso model:\", (lasso.coef_))\n",
        "\n",
        "# Observe, many of the coefficients have become 0 indicating drop of those dimensions from the model"
      ],
      "execution_count": 0,
      "outputs": [
        {
          "output_type": "stream",
          "text": [
            "Lasso model: [-0.         -0.         -0.14388802 -4.741098    0.          2.36269918\n",
            " -0.37362768  0.          0.        ]\n"
          ],
          "name": "stdout"
        }
      ]
    },
    {
      "cell_type": "markdown",
      "metadata": {
        "id": "FaJSXr1UJP-h",
        "colab_type": "text"
      },
      "source": [
        "## Let us compare their scores"
      ]
    },
    {
      "cell_type": "code",
      "metadata": {
        "id": "3ZPMCbV0JP-l",
        "colab_type": "code",
        "colab": {},
        "outputId": "66b4b0fb-c356-4686-a9ea-538462ad4894"
      },
      "source": [
        "print(regression_model.score(X_test, y_test))\n",
        "print(regression_model.score(X_train, y_train))"
      ],
      "execution_count": 0,
      "outputs": [
        {
          "output_type": "stream",
          "text": [
            "0.8433135132808833\n",
            "0.8141025501610559\n"
          ],
          "name": "stdout"
        }
      ]
    },
    {
      "cell_type": "code",
      "metadata": {
        "id": "gOcs6tbWJP-8",
        "colab_type": "code",
        "colab": {},
        "outputId": "7c911d72-8eec-4d39-fd40-56e1427695c6"
      },
      "source": [
        "\n",
        "print(ridge.score(X_test, y_test))\n",
        "print(ridge.score(X_train, y_train))"
      ],
      "execution_count": 0,
      "outputs": [
        {
          "output_type": "stream",
          "text": [
            "0.8437999817350272\n",
            "0.8140828080856514\n"
          ],
          "name": "stdout"
        }
      ]
    },
    {
      "cell_type": "code",
      "metadata": {
        "id": "N3cizzQVJP_M",
        "colab_type": "code",
        "colab": {},
        "outputId": "84eab76e-bf4b-445d-bdfe-2249b2beaea5"
      },
      "source": [
        "print(lasso.score(X_test, y_test))\n",
        "print(lasso.score(X_train, y_train))"
      ],
      "execution_count": 0,
      "outputs": [
        {
          "output_type": "stream",
          "text": [
            "0.8353355541674008\n",
            "0.7915795114093802\n"
          ],
          "name": "stdout"
        }
      ]
    },
    {
      "cell_type": "code",
      "metadata": {
        "collapsed": true,
        "id": "DQgmGUQHJP_a",
        "colab_type": "code",
        "colab": {}
      },
      "source": [
        "## Note - with Lasso, we get equally good result in test though not so in training.  Further, the number of dimensions is much less\n",
        "# in LASSO model than ridge or un-regularized model"
      ],
      "execution_count": 0,
      "outputs": []
    },
    {
      "cell_type": "code",
      "metadata": {
        "collapsed": true,
        "id": "mo9l9tHzJP_q",
        "colab_type": "code",
        "colab": {}
      },
      "source": [
        ""
      ],
      "execution_count": 0,
      "outputs": []
    }
  ]
}